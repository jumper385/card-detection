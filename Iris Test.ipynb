{
 "cells": [
  {
   "cell_type": "code",
   "execution_count": 21,
   "id": "66ec569c",
   "metadata": {},
   "outputs": [],
   "source": [
    "import torch\n",
    "import torchvision\n",
    "import torchvision.transforms as transforms"
   ]
  },
  {
   "cell_type": "code",
   "execution_count": 22,
   "id": "9e9b1375",
   "metadata": {},
   "outputs": [],
   "source": [
    "import torch.nn as nn\n",
    "import torch.nn.functional as F\n",
    "import numpy as np\n",
    "import pandas as pd\n",
    "from datetime import datetime"
   ]
  },
  {
   "cell_type": "code",
   "execution_count": 23,
   "id": "3bf7f6dc",
   "metadata": {},
   "outputs": [],
   "source": [
    "def normalize_column(df, column_name):\n",
    "    low = df_raw[column_name].min()\n",
    "    high = df_raw[column_name].max()\n",
    "    span = high-low\n",
    "    return (df[column_name]-low)/span\n",
    "\n",
    "def item_onehot(item, categories, length):\n",
    "    idx = [*categories].index(item)\n",
    "    encoding = np.zeros(length)\n",
    "    encoding[idx] = 1\n",
    "    return [*encoding]\n",
    "\n",
    "def encode_onehot(col):\n",
    "    categories = col.unique()\n",
    "    length = len(categories)\n",
    "    out_col = col.apply(lambda x: item_onehot(x, categories, length))\n",
    "    return out_col, categories, length"
   ]
  },
  {
   "cell_type": "code",
   "execution_count": 24,
   "id": "593bcd70",
   "metadata": {},
   "outputs": [],
   "source": [
    "df_raw = pd.read_csv(\"./data.csv\")\n",
    "df = df_raw\n",
    "df['sepal_length'] = normalize_column(df_raw, 'sepal_length')\n",
    "df['sepal_width'] = normalize_column(df_raw, 'sepal_width')\n",
    "df['petal_length'] = normalize_column(df_raw, 'petal_length')\n",
    "df['petal_width'] = normalize_column(df_raw, 'petal_width')\n",
    "cats = [*df['species'].unique()]\n",
    "onehot, categories, length = encode_onehot(df['species'])\n",
    "df['species'] = onehot\n",
    "\n",
    "x_cols = [\"sepal_length\",\"sepal_width\",\"petal_length\",\"petal_width\"]\n",
    "\n",
    "x = df[x_cols].to_numpy(dtype=float)\n",
    "y = np.asarray([*df[\"species\"].to_numpy()])\n",
    "\n",
    "x = torch.FloatTensor(x)\n",
    "y = torch.FloatTensor(y)\n",
    "\n",
    "train = df.sample(frac=0.7)\n",
    "_test = df.drop(train.index).sample(frac=1)\n",
    "test = _test.sample(frac=0.7)\n",
    "val = _test.drop(test.index).sample(frac=1)"
   ]
  },
  {
   "cell_type": "code",
   "execution_count": 25,
   "id": "18994bb8",
   "metadata": {},
   "outputs": [
    {
     "name": "stdout",
     "output_type": "stream",
     "text": [
      "Net(\n",
      "  (l1): Linear(in_features=4, out_features=5, bias=True)\n",
      "  (l2): Linear(in_features=5, out_features=10, bias=True)\n",
      "  (l3): Linear(in_features=10, out_features=3, bias=True)\n",
      ")\n"
     ]
    }
   ],
   "source": [
    "class Net(nn.Module):\n",
    "    def __init__(self):\n",
    "        super(Net, self).__init__()\n",
    "        self.l1 = nn.Linear(4,5)\n",
    "        self.l2 = nn.Linear(5,10)\n",
    "        self.l3 = nn.Linear(10,3)\n",
    "        \n",
    "    def forward(self, x):\n",
    "        x = F.relu(self.l1(x))\n",
    "        x = F.relu(self.l2(x))\n",
    "        x = nn.functional.softmax(self.l3(x), dim=0)\n",
    "        return x\n",
    "    \n",
    "net = Net()\n",
    "print(net)"
   ]
  },
  {
   "cell_type": "code",
   "execution_count": 26,
   "id": "d8f37f7e",
   "metadata": {},
   "outputs": [],
   "source": [
    "criterion = nn.CrossEntropyLoss()\n",
    "optimizer = torch.optim.Adam(net.parameters(), lr=0.01)"
   ]
  },
  {
   "cell_type": "code",
   "execution_count": 35,
   "id": "fd4d0e63",
   "metadata": {},
   "outputs": [
    {
     "name": "stdout",
     "output_type": "stream",
     "text": [
      "EPOCH: 0 ==> LOSS: 0.05336562916636467\n",
      "EPOCH: 100 ==> LOSS: 0.05336562171578407\n",
      "EPOCH: 200 ==> LOSS: 0.053365617990493774\n",
      "EPOCH: 300 ==> LOSS: 0.053365617990493774\n",
      "EPOCH: 400 ==> LOSS: 0.053365614265203476\n",
      "EPOCH: 500 ==> LOSS: 0.05336562171578407\n",
      "EPOCH: 600 ==> LOSS: 0.05336562171578407\n",
      "EPOCH: 700 ==> LOSS: 0.053365614265203476\n",
      "EPOCH: 800 ==> LOSS: 0.053365617990493774\n",
      "EPOCH: 900 ==> LOSS: 0.053365617990493774\n",
      "--- TRAINING FINISHED ---\n"
     ]
    }
   ],
   "source": [
    "torch.device('mps')\n",
    "\n",
    "epochs = 1000\n",
    "losses = []\n",
    "\n",
    "for i in range(epochs):\n",
    "    \n",
    "    old_time = datetime.now()\n",
    "    \n",
    "    x_train = torch.FloatTensor(train[x_cols].to_numpy())\n",
    "    y_train = torch.FloatTensor(np.asarray([*train['species'].to_numpy()]))\n",
    "    \n",
    "    y_pred = net.forward(x_train)\n",
    "    loss = criterion(y_pred, y_train)\n",
    "    \n",
    "    if (i % (epochs/10) == 0):\n",
    "        with torch.no_grad():\n",
    "            x_test = torch.FloatTensor(test[x_cols].to_numpy())\n",
    "            y_test = torch.FloatTensor(np.asarray([*test['species'].to_numpy()]))\n",
    "            \n",
    "            y_test_pred = net(x_test)\n",
    "            test_loss = criterion(y_test, y_test_pred)\n",
    "            \n",
    "            delta = (datetime.now() - old_time)*1000\n",
    "            old_time = datetime.now()\n",
    "            \n",
    "            print(f'EPOCH: {i} ==> LOSS: {test_loss}')\n",
    "    \n",
    "    optimizer.zero_grad()\n",
    "    loss.backward()\n",
    "    optimizer.step()\n",
    "\n",
    "print(\"--- TRAINING FINISHED ---\")"
   ]
  },
  {
   "cell_type": "code",
   "execution_count": 47,
   "id": "12ed40ad",
   "metadata": {},
   "outputs": [
    {
     "name": "stdout",
     "output_type": "stream",
     "text": [
      "Predicted [4.575062e-09, 0.24937737, 2.1725408e-20]\n",
      "Actual [0.0, 1.0, 0.0]\n",
      "Validation Loss 0.1181672066450119\n"
     ]
    }
   ],
   "source": [
    "idx = 10\n",
    "\n",
    "x_val = torch.FloatTensor(val[x_cols].to_numpy())\n",
    "y_val = torch.FloatTensor([*val['species'].to_numpy()])\n",
    "\n",
    "with torch.no_grad():\n",
    "    y_val_pred = net(x_val)\n",
    "    val_loss = criterion(y_val, y_val_pred)\n",
    "    print(f\"Predicted {[*y_val_pred[idx].numpy()]}\")\n",
    "    print(f'Actual {[*y_val[idx].numpy()]}')\n",
    "    print(f'Validation Loss {val_loss.numpy()}')"
   ]
  },
  {
   "cell_type": "code",
   "execution_count": null,
   "id": "f530a6d5",
   "metadata": {},
   "outputs": [],
   "source": []
  }
 ],
 "metadata": {
  "kernelspec": {
   "display_name": "Python 3 (ipykernel)",
   "language": "python",
   "name": "python3"
  },
  "language_info": {
   "codemirror_mode": {
    "name": "ipython",
    "version": 3
   },
   "file_extension": ".py",
   "mimetype": "text/x-python",
   "name": "python",
   "nbconvert_exporter": "python",
   "pygments_lexer": "ipython3",
   "version": "3.9.13"
  }
 },
 "nbformat": 4,
 "nbformat_minor": 5
}
